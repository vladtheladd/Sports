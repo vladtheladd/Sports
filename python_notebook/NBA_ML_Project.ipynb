{
 "cells": [
  {
   "cell_type": "markdown",
   "metadata": {},
   "source": [
    "![logo](download.png)"
   ]
  },
  {
   "cell_type": "markdown",
   "metadata": {},
   "source": [
    "### This project is centered around the question of IF we can use historial data from the NBA since 1980 to predict a players career PTS output. More specifically -- can we use a players rookie year stats to determine what their final total points total will be -- PTS being an encompassing metric of a players value in the league. \n",
    "\n",
    "### Ultimately, we can use a player's rookie year stats to predict whether or not that player will be above average or below average in scoring by the end of their career. This way - teams can be aware of potential 'sophomore slumps' and 'flops' in the draft. \n",
    "\n",
    "    1) Importing / Cleaning\n",
    "    2) Explore data\n",
    "    3) Feature Selection\n",
    "    4) Training / Test Split & Resampling\n",
    "    5) Machine Learning & Classification Algorithms"
   ]
  },
  {
   "cell_type": "code",
   "execution_count": 590,
   "metadata": {},
   "outputs": [],
   "source": [
    "#Packages\n",
    "import pandas as pd\n",
    "import numpy as np\n",
    "\n",
    "import seaborn as sns\n",
    "import matplotlib.pyplot as plt\n",
    "#from scipy import stats\n",
    "%matplotlib inline \n",
    "sns.set(color_codes=True)\n",
    "\n",
    "#Machine Learning\n",
    "from sklearn import preprocessing\n",
    "from sklearn.naive_bayes import MultinomialNB\n",
    "from sklearn.linear_model import LogisticRegression\n",
    "from sklearn.neighbors import KNeighborsClassifier\n",
    "from sklearn.linear_model import SGDClassifier\n",
    "from sklearn.feature_selection import RFE\n",
    "\n",
    "#classifier evaluation\n",
    "from sklearn.metrics import confusion_matrix\n",
    "from sklearn.model_selection import cross_val_score\n",
    "from sklearn.metrics import accuracy_score, precision_score, recall_score, f1_score\n",
    "from sklearn.metrics import roc_curve, auc"
   ]
  },
  {
   "cell_type": "markdown",
   "metadata": {},
   "source": [
    "# i) Importing/Cleaning"
   ]
  },
  {
   "cell_type": "code",
   "execution_count": 544,
   "metadata": {},
   "outputs": [],
   "source": [
    "#import .csv file\n",
    "season_df = pd.read_csv(\"nba_seasons.csv\", index_col=0)"
   ]
  },
  {
   "cell_type": "code",
   "execution_count": 545,
   "metadata": {},
   "outputs": [
    {
     "name": "stdout",
     "output_type": "stream",
     "text": [
      "(24691, 52)\n"
     ]
    },
    {
     "data": {
      "text/html": [
       "<div>\n",
       "<style scoped>\n",
       "    .dataframe tbody tr th:only-of-type {\n",
       "        vertical-align: middle;\n",
       "    }\n",
       "\n",
       "    .dataframe tbody tr th {\n",
       "        vertical-align: top;\n",
       "    }\n",
       "\n",
       "    .dataframe thead th {\n",
       "        text-align: right;\n",
       "    }\n",
       "</style>\n",
       "<table border=\"1\" class=\"dataframe\">\n",
       "  <thead>\n",
       "    <tr style=\"text-align: right;\">\n",
       "      <th></th>\n",
       "      <th>Year</th>\n",
       "      <th>Player</th>\n",
       "      <th>Pos</th>\n",
       "      <th>Age</th>\n",
       "      <th>Tm</th>\n",
       "      <th>G</th>\n",
       "      <th>GS</th>\n",
       "      <th>MP</th>\n",
       "      <th>PER</th>\n",
       "      <th>TS%</th>\n",
       "      <th>...</th>\n",
       "      <th>FT%</th>\n",
       "      <th>ORB</th>\n",
       "      <th>DRB</th>\n",
       "      <th>TRB</th>\n",
       "      <th>AST</th>\n",
       "      <th>STL</th>\n",
       "      <th>BLK</th>\n",
       "      <th>TOV</th>\n",
       "      <th>PF</th>\n",
       "      <th>PTS</th>\n",
       "    </tr>\n",
       "  </thead>\n",
       "  <tbody>\n",
       "    <tr>\n",
       "      <td>0</td>\n",
       "      <td>1950.0</td>\n",
       "      <td>Curly Armstrong</td>\n",
       "      <td>G-F</td>\n",
       "      <td>31.0</td>\n",
       "      <td>FTW</td>\n",
       "      <td>63.0</td>\n",
       "      <td>NaN</td>\n",
       "      <td>NaN</td>\n",
       "      <td>NaN</td>\n",
       "      <td>0.368</td>\n",
       "      <td>...</td>\n",
       "      <td>0.705</td>\n",
       "      <td>NaN</td>\n",
       "      <td>NaN</td>\n",
       "      <td>NaN</td>\n",
       "      <td>176.0</td>\n",
       "      <td>NaN</td>\n",
       "      <td>NaN</td>\n",
       "      <td>NaN</td>\n",
       "      <td>217.0</td>\n",
       "      <td>458.0</td>\n",
       "    </tr>\n",
       "    <tr>\n",
       "      <td>1</td>\n",
       "      <td>1950.0</td>\n",
       "      <td>Cliff Barker</td>\n",
       "      <td>SG</td>\n",
       "      <td>29.0</td>\n",
       "      <td>INO</td>\n",
       "      <td>49.0</td>\n",
       "      <td>NaN</td>\n",
       "      <td>NaN</td>\n",
       "      <td>NaN</td>\n",
       "      <td>0.435</td>\n",
       "      <td>...</td>\n",
       "      <td>0.708</td>\n",
       "      <td>NaN</td>\n",
       "      <td>NaN</td>\n",
       "      <td>NaN</td>\n",
       "      <td>109.0</td>\n",
       "      <td>NaN</td>\n",
       "      <td>NaN</td>\n",
       "      <td>NaN</td>\n",
       "      <td>99.0</td>\n",
       "      <td>279.0</td>\n",
       "    </tr>\n",
       "    <tr>\n",
       "      <td>2</td>\n",
       "      <td>1950.0</td>\n",
       "      <td>Leo Barnhorst</td>\n",
       "      <td>SF</td>\n",
       "      <td>25.0</td>\n",
       "      <td>CHS</td>\n",
       "      <td>67.0</td>\n",
       "      <td>NaN</td>\n",
       "      <td>NaN</td>\n",
       "      <td>NaN</td>\n",
       "      <td>0.394</td>\n",
       "      <td>...</td>\n",
       "      <td>0.698</td>\n",
       "      <td>NaN</td>\n",
       "      <td>NaN</td>\n",
       "      <td>NaN</td>\n",
       "      <td>140.0</td>\n",
       "      <td>NaN</td>\n",
       "      <td>NaN</td>\n",
       "      <td>NaN</td>\n",
       "      <td>192.0</td>\n",
       "      <td>438.0</td>\n",
       "    </tr>\n",
       "  </tbody>\n",
       "</table>\n",
       "<p>3 rows × 52 columns</p>\n",
       "</div>"
      ],
      "text/plain": [
       "     Year           Player  Pos   Age   Tm     G  GS  MP  PER    TS%  ...  \\\n",
       "0  1950.0  Curly Armstrong  G-F  31.0  FTW  63.0 NaN NaN  NaN  0.368  ...   \n",
       "1  1950.0     Cliff Barker   SG  29.0  INO  49.0 NaN NaN  NaN  0.435  ...   \n",
       "2  1950.0    Leo Barnhorst   SF  25.0  CHS  67.0 NaN NaN  NaN  0.394  ...   \n",
       "\n",
       "     FT%  ORB  DRB  TRB    AST  STL  BLK  TOV     PF    PTS  \n",
       "0  0.705  NaN  NaN  NaN  176.0  NaN  NaN  NaN  217.0  458.0  \n",
       "1  0.708  NaN  NaN  NaN  109.0  NaN  NaN  NaN   99.0  279.0  \n",
       "2  0.698  NaN  NaN  NaN  140.0  NaN  NaN  NaN  192.0  438.0  \n",
       "\n",
       "[3 rows x 52 columns]"
      ]
     },
     "execution_count": 545,
     "metadata": {},
     "output_type": "execute_result"
    }
   ],
   "source": [
    "print(season_df.shape)\n",
    "season_df.head(3)"
   ]
  },
  {
   "cell_type": "markdown",
   "metadata": {},
   "source": [
    "##### Check for NAN "
   ]
  },
  {
   "cell_type": "code",
   "execution_count": 546,
   "metadata": {
    "scrolled": true
   },
   "outputs": [
    {
     "data": {
      "text/plain": [
       "Year         67\n",
       "Player       67\n",
       "Pos          67\n",
       "Age          75\n",
       "Tm           67\n",
       "G            67\n",
       "GS         6458\n",
       "MP          553\n",
       "PER         590\n",
       "TS%         153\n",
       "3PAr       5852\n",
       "FTr         166\n",
       "ORB%       3899\n",
       "DRB%       3899\n",
       "TRB%       3120\n",
       "AST%       2136\n",
       "STL%       3899\n",
       "BLK%       3899\n",
       "TOV%       5109\n",
       "USG%       5051\n",
       "blanl     24691\n",
       "OWS         106\n",
       "DWS         106\n",
       "WS          106\n",
       "WS/48       590\n",
       "blank2    24691\n",
       "OBPM       3894\n",
       "DBPM       3894\n",
       "BPM        3894\n",
       "VORP       3894\n",
       "FG           67\n",
       "FGA          67\n",
       "FG%         166\n",
       "3P         5764\n",
       "3PA        5764\n",
       "3P%        9275\n",
       "2P           67\n",
       "2PA          67\n",
       "2P%         195\n",
       "eFG%        166\n",
       "FT           67\n",
       "FTA          67\n",
       "FT%         925\n",
       "ORB        3894\n",
       "DRB        3894\n",
       "TRB         379\n",
       "AST          67\n",
       "STL        3894\n",
       "BLK        3894\n",
       "TOV        5046\n",
       "PF           67\n",
       "PTS          67\n",
       "dtype: int64"
      ]
     },
     "execution_count": 546,
     "metadata": {},
     "output_type": "execute_result"
    }
   ],
   "source": [
    "#check NAN from season_df columns\n",
    "season_df.isna().sum()"
   ]
  },
  {
   "cell_type": "code",
   "execution_count": 547,
   "metadata": {},
   "outputs": [
    {
     "name": "stdout",
     "output_type": "stream",
     "text": [
      "(24691, 50)\n"
     ]
    }
   ],
   "source": [
    "#drop empty columns (50 expected)\n",
    "season_df.drop(['blanl'], axis=1, inplace=True)\n",
    "season_df.drop(['blank2'], axis=1, inplace=True)\n",
    "\n",
    "#check\n",
    "print(season_df.shape)"
   ]
  },
  {
   "cell_type": "code",
   "execution_count": 548,
   "metadata": {},
   "outputs": [
    {
     "name": "stdout",
     "output_type": "stream",
     "text": [
      "(14585, 50)\n"
     ]
    },
    {
     "data": {
      "text/html": [
       "<div>\n",
       "<style scoped>\n",
       "    .dataframe tbody tr th:only-of-type {\n",
       "        vertical-align: middle;\n",
       "    }\n",
       "\n",
       "    .dataframe tbody tr th {\n",
       "        vertical-align: top;\n",
       "    }\n",
       "\n",
       "    .dataframe thead th {\n",
       "        text-align: right;\n",
       "    }\n",
       "</style>\n",
       "<table border=\"1\" class=\"dataframe\">\n",
       "  <thead>\n",
       "    <tr style=\"text-align: right;\">\n",
       "      <th></th>\n",
       "      <th>Year</th>\n",
       "      <th>Player</th>\n",
       "      <th>Pos</th>\n",
       "      <th>Age</th>\n",
       "      <th>Tm</th>\n",
       "      <th>G</th>\n",
       "      <th>GS</th>\n",
       "      <th>MP</th>\n",
       "      <th>PER</th>\n",
       "      <th>TS%</th>\n",
       "      <th>...</th>\n",
       "      <th>FT%</th>\n",
       "      <th>ORB</th>\n",
       "      <th>DRB</th>\n",
       "      <th>TRB</th>\n",
       "      <th>AST</th>\n",
       "      <th>STL</th>\n",
       "      <th>BLK</th>\n",
       "      <th>TOV</th>\n",
       "      <th>PF</th>\n",
       "      <th>PTS</th>\n",
       "    </tr>\n",
       "  </thead>\n",
       "  <tbody>\n",
       "    <tr>\n",
       "      <td>5730</td>\n",
       "      <td>1980.0</td>\n",
       "      <td>Tiny Archibald*</td>\n",
       "      <td>PG</td>\n",
       "      <td>31.0</td>\n",
       "      <td>BOS</td>\n",
       "      <td>80.0</td>\n",
       "      <td>80.0</td>\n",
       "      <td>2864.0</td>\n",
       "      <td>15.3</td>\n",
       "      <td>0.574</td>\n",
       "      <td>...</td>\n",
       "      <td>0.830</td>\n",
       "      <td>59.0</td>\n",
       "      <td>138.0</td>\n",
       "      <td>197.0</td>\n",
       "      <td>671.0</td>\n",
       "      <td>106.0</td>\n",
       "      <td>10.0</td>\n",
       "      <td>242.0</td>\n",
       "      <td>218.0</td>\n",
       "      <td>1131.0</td>\n",
       "    </tr>\n",
       "    <tr>\n",
       "      <td>5748</td>\n",
       "      <td>1980.0</td>\n",
       "      <td>Larry Bird*</td>\n",
       "      <td>PF</td>\n",
       "      <td>23.0</td>\n",
       "      <td>BOS</td>\n",
       "      <td>82.0</td>\n",
       "      <td>82.0</td>\n",
       "      <td>2955.0</td>\n",
       "      <td>20.5</td>\n",
       "      <td>0.538</td>\n",
       "      <td>...</td>\n",
       "      <td>0.836</td>\n",
       "      <td>216.0</td>\n",
       "      <td>636.0</td>\n",
       "      <td>852.0</td>\n",
       "      <td>370.0</td>\n",
       "      <td>143.0</td>\n",
       "      <td>53.0</td>\n",
       "      <td>263.0</td>\n",
       "      <td>279.0</td>\n",
       "      <td>1745.0</td>\n",
       "    </tr>\n",
       "    <tr>\n",
       "      <td>5781</td>\n",
       "      <td>1980.0</td>\n",
       "      <td>M.L. Carr</td>\n",
       "      <td>SF</td>\n",
       "      <td>29.0</td>\n",
       "      <td>BOS</td>\n",
       "      <td>82.0</td>\n",
       "      <td>7.0</td>\n",
       "      <td>1994.0</td>\n",
       "      <td>14.6</td>\n",
       "      <td>0.526</td>\n",
       "      <td>...</td>\n",
       "      <td>0.739</td>\n",
       "      <td>106.0</td>\n",
       "      <td>224.0</td>\n",
       "      <td>330.0</td>\n",
       "      <td>156.0</td>\n",
       "      <td>120.0</td>\n",
       "      <td>36.0</td>\n",
       "      <td>143.0</td>\n",
       "      <td>214.0</td>\n",
       "      <td>914.0</td>\n",
       "    </tr>\n",
       "  </tbody>\n",
       "</table>\n",
       "<p>3 rows × 50 columns</p>\n",
       "</div>"
      ],
      "text/plain": [
       "        Year           Player Pos   Age   Tm     G    GS      MP   PER    TS%  \\\n",
       "5730  1980.0  Tiny Archibald*  PG  31.0  BOS  80.0  80.0  2864.0  15.3  0.574   \n",
       "5748  1980.0      Larry Bird*  PF  23.0  BOS  82.0  82.0  2955.0  20.5  0.538   \n",
       "5781  1980.0        M.L. Carr  SF  29.0  BOS  82.0   7.0  1994.0  14.6  0.526   \n",
       "\n",
       "      ...    FT%    ORB    DRB    TRB    AST    STL   BLK    TOV     PF  \\\n",
       "5730  ...  0.830   59.0  138.0  197.0  671.0  106.0  10.0  242.0  218.0   \n",
       "5748  ...  0.836  216.0  636.0  852.0  370.0  143.0  53.0  263.0  279.0   \n",
       "5781  ...  0.739  106.0  224.0  330.0  156.0  120.0  36.0  143.0  214.0   \n",
       "\n",
       "         PTS  \n",
       "5730  1131.0  \n",
       "5748  1745.0  \n",
       "5781   914.0  \n",
       "\n",
       "[3 rows x 50 columns]"
      ]
     },
     "execution_count": 548,
     "metadata": {},
     "output_type": "execute_result"
    }
   ],
   "source": [
    "#drop rows with NAN values\n",
    "season_df.dropna(inplace=True)\n",
    "print(season_df.shape)\n",
    "season_df.head(3)"
   ]
  },
  {
   "cell_type": "code",
   "execution_count": 549,
   "metadata": {},
   "outputs": [],
   "source": [
    "nba_df = season_df[['Player',\n",
    "                    'FG',\n",
    "                    'FGA',\n",
    "                    'FG%',\n",
    "                    '3P',\n",
    "                    '3PA',\n",
    "                    '3P%',\n",
    "                    '2P',\n",
    "                    '2PA',\n",
    "                    '2P%',\n",
    "                    'eFG%',\n",
    "                    'FT',\n",
    "                    'FTA',\n",
    "                    'FT%',\n",
    "                    'ORB',\n",
    "                    'DRB',\n",
    "                    'TRB',\n",
    "                    'AST',\n",
    "                    'STL',\n",
    "                    'BLK',\n",
    "                    'TOV',\n",
    "                    'PF',\n",
    "                    'PTS']]"
   ]
  },
  {
   "cell_type": "code",
   "execution_count": 550,
   "metadata": {},
   "outputs": [
    {
     "name": "stdout",
     "output_type": "stream",
     "text": [
      "(14585, 23)\n"
     ]
    }
   ],
   "source": [
    "print(nba_df.shape)\n",
    "nba_df.head(1)\n",
    "nba_df = nba_df.reset_index(drop=True)"
   ]
  },
  {
   "cell_type": "markdown",
   "metadata": {},
   "source": [
    "##### combining duplicates into career stats"
   ]
  },
  {
   "cell_type": "code",
   "execution_count": 551,
   "metadata": {},
   "outputs": [
    {
     "name": "stdout",
     "output_type": "stream",
     "text": [
      "(2331, 22)\n"
     ]
    },
    {
     "data": {
      "text/html": [
       "<div>\n",
       "<style scoped>\n",
       "    .dataframe tbody tr th:only-of-type {\n",
       "        vertical-align: middle;\n",
       "    }\n",
       "\n",
       "    .dataframe tbody tr th {\n",
       "        vertical-align: top;\n",
       "    }\n",
       "\n",
       "    .dataframe thead th {\n",
       "        text-align: right;\n",
       "    }\n",
       "</style>\n",
       "<table border=\"1\" class=\"dataframe\">\n",
       "  <thead>\n",
       "    <tr style=\"text-align: right;\">\n",
       "      <th></th>\n",
       "      <th>FG</th>\n",
       "      <th>FGA</th>\n",
       "      <th>FG%</th>\n",
       "      <th>3P</th>\n",
       "      <th>3PA</th>\n",
       "      <th>3P%</th>\n",
       "      <th>2P</th>\n",
       "      <th>2PA</th>\n",
       "      <th>2P%</th>\n",
       "      <th>eFG%</th>\n",
       "      <th>...</th>\n",
       "      <th>FT%</th>\n",
       "      <th>ORB</th>\n",
       "      <th>DRB</th>\n",
       "      <th>TRB</th>\n",
       "      <th>AST</th>\n",
       "      <th>STL</th>\n",
       "      <th>BLK</th>\n",
       "      <th>TOV</th>\n",
       "      <th>PF</th>\n",
       "      <th>PTS</th>\n",
       "    </tr>\n",
       "    <tr>\n",
       "      <th>Player</th>\n",
       "      <th></th>\n",
       "      <th></th>\n",
       "      <th></th>\n",
       "      <th></th>\n",
       "      <th></th>\n",
       "      <th></th>\n",
       "      <th></th>\n",
       "      <th></th>\n",
       "      <th></th>\n",
       "      <th></th>\n",
       "      <th></th>\n",
       "      <th></th>\n",
       "      <th></th>\n",
       "      <th></th>\n",
       "      <th></th>\n",
       "      <th></th>\n",
       "      <th></th>\n",
       "      <th></th>\n",
       "      <th></th>\n",
       "      <th></th>\n",
       "      <th></th>\n",
       "    </tr>\n",
       "  </thead>\n",
       "  <tbody>\n",
       "    <tr>\n",
       "      <td>A.C. Green</td>\n",
       "      <td>265.444444</td>\n",
       "      <td>538.111111</td>\n",
       "      <td>0.487667</td>\n",
       "      <td>6.944444</td>\n",
       "      <td>28.277778</td>\n",
       "      <td>0.146833</td>\n",
       "      <td>258.5</td>\n",
       "      <td>509.833333</td>\n",
       "      <td>0.501889</td>\n",
       "      <td>0.493167</td>\n",
       "      <td>...</td>\n",
       "      <td>0.708056</td>\n",
       "      <td>198.666667</td>\n",
       "      <td>364.055556</td>\n",
       "      <td>562.722222</td>\n",
       "      <td>81.611111</td>\n",
       "      <td>61.277778</td>\n",
       "      <td>31.222222</td>\n",
       "      <td>83.777778</td>\n",
       "      <td>143.388889</td>\n",
       "      <td>12928.0</td>\n",
       "    </tr>\n",
       "  </tbody>\n",
       "</table>\n",
       "<p>1 rows × 22 columns</p>\n",
       "</div>"
      ],
      "text/plain": [
       "                    FG         FGA       FG%        3P        3PA       3P%  \\\n",
       "Player                                                                        \n",
       "A.C. Green  265.444444  538.111111  0.487667  6.944444  28.277778  0.146833   \n",
       "\n",
       "               2P         2PA       2P%      eFG%  ...       FT%         ORB  \\\n",
       "Player                                             ...                         \n",
       "A.C. Green  258.5  509.833333  0.501889  0.493167  ...  0.708056  198.666667   \n",
       "\n",
       "                   DRB         TRB        AST        STL        BLK  \\\n",
       "Player                                                                \n",
       "A.C. Green  364.055556  562.722222  81.611111  61.277778  31.222222   \n",
       "\n",
       "                  TOV          PF      PTS  \n",
       "Player                                      \n",
       "A.C. Green  83.777778  143.388889  12928.0  \n",
       "\n",
       "[1 rows x 22 columns]"
      ]
     },
     "execution_count": 551,
     "metadata": {},
     "output_type": "execute_result"
    }
   ],
   "source": [
    "aggregation_functions = {'FG': 'mean',\n",
    "                         'FGA': 'mean',\n",
    "                         'FG%': 'mean',\n",
    "                         '3P': 'mean',\n",
    "                         '3PA': 'mean',\n",
    "                         '3P%': 'mean',\n",
    "                         '2P': 'mean',\n",
    "                         '2PA': 'mean',\n",
    "                         '2P%': 'mean',\n",
    "                         'eFG%': 'mean',\n",
    "                         'FT': 'mean',\n",
    "                         'FTA': 'mean',\n",
    "                         'FT%': 'mean',\n",
    "                         'ORB': 'mean',\n",
    "                         'DRB': 'mean',\n",
    "                         'TRB': 'mean',\n",
    "                         'AST': 'mean',\n",
    "                         'STL': 'mean',\n",
    "                         'BLK': 'mean',\n",
    "                         'TOV': 'mean',\n",
    "                         'PF': 'mean',\n",
    "                         'PTS': 'sum'}\n",
    "\n",
    "career_df = nba_df.groupby(nba_df['Player']).aggregate(aggregation_functions)\n",
    "print(career_df.shape)\n",
    "career_df.head(1)"
   ]
  },
  {
   "cell_type": "code",
   "execution_count": 552,
   "metadata": {},
   "outputs": [
    {
     "data": {
      "text/html": [
       "<div>\n",
       "<style scoped>\n",
       "    .dataframe tbody tr th:only-of-type {\n",
       "        vertical-align: middle;\n",
       "    }\n",
       "\n",
       "    .dataframe tbody tr th {\n",
       "        vertical-align: top;\n",
       "    }\n",
       "\n",
       "    .dataframe thead th {\n",
       "        text-align: right;\n",
       "    }\n",
       "</style>\n",
       "<table border=\"1\" class=\"dataframe\">\n",
       "  <thead>\n",
       "    <tr style=\"text-align: right;\">\n",
       "      <th></th>\n",
       "      <th>FG</th>\n",
       "      <th>FGA</th>\n",
       "      <th>FG%</th>\n",
       "      <th>3P</th>\n",
       "      <th>3PA</th>\n",
       "      <th>3P%</th>\n",
       "      <th>2P</th>\n",
       "      <th>2PA</th>\n",
       "      <th>2P%</th>\n",
       "      <th>eFG%</th>\n",
       "      <th>...</th>\n",
       "      <th>FT%</th>\n",
       "      <th>ORB</th>\n",
       "      <th>DRB</th>\n",
       "      <th>TRB</th>\n",
       "      <th>AST</th>\n",
       "      <th>STL</th>\n",
       "      <th>BLK</th>\n",
       "      <th>TOV</th>\n",
       "      <th>PF</th>\n",
       "      <th>TOTAL_PTS</th>\n",
       "    </tr>\n",
       "    <tr>\n",
       "      <th>Player</th>\n",
       "      <th></th>\n",
       "      <th></th>\n",
       "      <th></th>\n",
       "      <th></th>\n",
       "      <th></th>\n",
       "      <th></th>\n",
       "      <th></th>\n",
       "      <th></th>\n",
       "      <th></th>\n",
       "      <th></th>\n",
       "      <th></th>\n",
       "      <th></th>\n",
       "      <th></th>\n",
       "      <th></th>\n",
       "      <th></th>\n",
       "      <th></th>\n",
       "      <th></th>\n",
       "      <th></th>\n",
       "      <th></th>\n",
       "      <th></th>\n",
       "      <th></th>\n",
       "    </tr>\n",
       "  </thead>\n",
       "  <tbody>\n",
       "    <tr>\n",
       "      <td>A.C. Green</td>\n",
       "      <td>265.4</td>\n",
       "      <td>538.1</td>\n",
       "      <td>0.5</td>\n",
       "      <td>6.9</td>\n",
       "      <td>28.3</td>\n",
       "      <td>0.1</td>\n",
       "      <td>258.5</td>\n",
       "      <td>509.8</td>\n",
       "      <td>0.5</td>\n",
       "      <td>0.5</td>\n",
       "      <td>...</td>\n",
       "      <td>0.7</td>\n",
       "      <td>198.7</td>\n",
       "      <td>364.1</td>\n",
       "      <td>562.7</td>\n",
       "      <td>81.6</td>\n",
       "      <td>61.3</td>\n",
       "      <td>31.2</td>\n",
       "      <td>83.8</td>\n",
       "      <td>143.4</td>\n",
       "      <td>12928.0</td>\n",
       "    </tr>\n",
       "  </tbody>\n",
       "</table>\n",
       "<p>1 rows × 22 columns</p>\n",
       "</div>"
      ],
      "text/plain": [
       "               FG    FGA  FG%   3P   3PA  3P%     2P    2PA  2P%  eFG%  ...  \\\n",
       "Player                                                                  ...   \n",
       "A.C. Green  265.4  538.1  0.5  6.9  28.3  0.1  258.5  509.8  0.5   0.5  ...   \n",
       "\n",
       "            FT%    ORB    DRB    TRB   AST   STL   BLK   TOV     PF  TOTAL_PTS  \n",
       "Player                                                                          \n",
       "A.C. Green  0.7  198.7  364.1  562.7  81.6  61.3  31.2  83.8  143.4    12928.0  \n",
       "\n",
       "[1 rows x 22 columns]"
      ]
     },
     "execution_count": 552,
     "metadata": {},
     "output_type": "execute_result"
    }
   ],
   "source": [
    "#rename PTS columns into Career PTS\n",
    "career_df.rename(columns = {'PTS':'TOTAL_PTS'}, inplace = True) \n",
    "\n",
    "career_df = career_df.round(decimals=1)\n",
    "career_df.head(1)"
   ]
  },
  {
   "cell_type": "markdown",
   "metadata": {},
   "source": [
    "##### aggregating nba_df into rookie years "
   ]
  },
  {
   "cell_type": "code",
   "execution_count": 553,
   "metadata": {},
   "outputs": [
    {
     "name": "stdout",
     "output_type": "stream",
     "text": [
      "(2331, 22)\n"
     ]
    },
    {
     "data": {
      "text/html": [
       "<div>\n",
       "<style scoped>\n",
       "    .dataframe tbody tr th:only-of-type {\n",
       "        vertical-align: middle;\n",
       "    }\n",
       "\n",
       "    .dataframe tbody tr th {\n",
       "        vertical-align: top;\n",
       "    }\n",
       "\n",
       "    .dataframe thead th {\n",
       "        text-align: right;\n",
       "    }\n",
       "</style>\n",
       "<table border=\"1\" class=\"dataframe\">\n",
       "  <thead>\n",
       "    <tr style=\"text-align: right;\">\n",
       "      <th></th>\n",
       "      <th>FG</th>\n",
       "      <th>FGA</th>\n",
       "      <th>FG%</th>\n",
       "      <th>3P</th>\n",
       "      <th>3PA</th>\n",
       "      <th>3P%</th>\n",
       "      <th>2P</th>\n",
       "      <th>2PA</th>\n",
       "      <th>2P%</th>\n",
       "      <th>eFG%</th>\n",
       "      <th>...</th>\n",
       "      <th>FT%</th>\n",
       "      <th>ORB</th>\n",
       "      <th>DRB</th>\n",
       "      <th>TRB</th>\n",
       "      <th>AST</th>\n",
       "      <th>STL</th>\n",
       "      <th>BLK</th>\n",
       "      <th>TOV</th>\n",
       "      <th>PF</th>\n",
       "      <th>PTS</th>\n",
       "    </tr>\n",
       "    <tr>\n",
       "      <th>Player</th>\n",
       "      <th></th>\n",
       "      <th></th>\n",
       "      <th></th>\n",
       "      <th></th>\n",
       "      <th></th>\n",
       "      <th></th>\n",
       "      <th></th>\n",
       "      <th></th>\n",
       "      <th></th>\n",
       "      <th></th>\n",
       "      <th></th>\n",
       "      <th></th>\n",
       "      <th></th>\n",
       "      <th></th>\n",
       "      <th></th>\n",
       "      <th></th>\n",
       "      <th></th>\n",
       "      <th></th>\n",
       "      <th></th>\n",
       "      <th></th>\n",
       "      <th></th>\n",
       "    </tr>\n",
       "  </thead>\n",
       "  <tbody>\n",
       "    <tr>\n",
       "      <td>A.C. Green</td>\n",
       "      <td>209.0</td>\n",
       "      <td>388.0</td>\n",
       "      <td>0.539</td>\n",
       "      <td>1.0</td>\n",
       "      <td>6.0</td>\n",
       "      <td>0.167</td>\n",
       "      <td>208.0</td>\n",
       "      <td>382.0</td>\n",
       "      <td>0.545</td>\n",
       "      <td>0.540</td>\n",
       "      <td>...</td>\n",
       "      <td>0.611</td>\n",
       "      <td>160.0</td>\n",
       "      <td>221.0</td>\n",
       "      <td>381.0</td>\n",
       "      <td>54.0</td>\n",
       "      <td>49.0</td>\n",
       "      <td>49.0</td>\n",
       "      <td>99.0</td>\n",
       "      <td>229.0</td>\n",
       "      <td>521.0</td>\n",
       "    </tr>\n",
       "    <tr>\n",
       "      <td>A.J. English</td>\n",
       "      <td>251.0</td>\n",
       "      <td>572.0</td>\n",
       "      <td>0.439</td>\n",
       "      <td>3.0</td>\n",
       "      <td>31.0</td>\n",
       "      <td>0.097</td>\n",
       "      <td>248.0</td>\n",
       "      <td>541.0</td>\n",
       "      <td>0.458</td>\n",
       "      <td>0.441</td>\n",
       "      <td>...</td>\n",
       "      <td>0.707</td>\n",
       "      <td>66.0</td>\n",
       "      <td>81.0</td>\n",
       "      <td>147.0</td>\n",
       "      <td>177.0</td>\n",
       "      <td>25.0</td>\n",
       "      <td>15.0</td>\n",
       "      <td>114.0</td>\n",
       "      <td>127.0</td>\n",
       "      <td>616.0</td>\n",
       "    </tr>\n",
       "    <tr>\n",
       "      <td>A.J. Guyton</td>\n",
       "      <td>78.0</td>\n",
       "      <td>192.0</td>\n",
       "      <td>0.406</td>\n",
       "      <td>27.0</td>\n",
       "      <td>69.0</td>\n",
       "      <td>0.391</td>\n",
       "      <td>51.0</td>\n",
       "      <td>123.0</td>\n",
       "      <td>0.415</td>\n",
       "      <td>0.477</td>\n",
       "      <td>...</td>\n",
       "      <td>0.833</td>\n",
       "      <td>10.0</td>\n",
       "      <td>26.0</td>\n",
       "      <td>36.0</td>\n",
       "      <td>64.0</td>\n",
       "      <td>9.0</td>\n",
       "      <td>5.0</td>\n",
       "      <td>24.0</td>\n",
       "      <td>35.0</td>\n",
       "      <td>198.0</td>\n",
       "    </tr>\n",
       "  </tbody>\n",
       "</table>\n",
       "<p>3 rows × 22 columns</p>\n",
       "</div>"
      ],
      "text/plain": [
       "                 FG    FGA    FG%    3P   3PA    3P%     2P    2PA    2P%  \\\n",
       "Player                                                                      \n",
       "A.C. Green    209.0  388.0  0.539   1.0   6.0  0.167  208.0  382.0  0.545   \n",
       "A.J. English  251.0  572.0  0.439   3.0  31.0  0.097  248.0  541.0  0.458   \n",
       "A.J. Guyton    78.0  192.0  0.406  27.0  69.0  0.391   51.0  123.0  0.415   \n",
       "\n",
       "               eFG%  ...    FT%    ORB    DRB    TRB    AST   STL   BLK  \\\n",
       "Player               ...                                                  \n",
       "A.C. Green    0.540  ...  0.611  160.0  221.0  381.0   54.0  49.0  49.0   \n",
       "A.J. English  0.441  ...  0.707   66.0   81.0  147.0  177.0  25.0  15.0   \n",
       "A.J. Guyton   0.477  ...  0.833   10.0   26.0   36.0   64.0   9.0   5.0   \n",
       "\n",
       "                TOV     PF    PTS  \n",
       "Player                             \n",
       "A.C. Green     99.0  229.0  521.0  \n",
       "A.J. English  114.0  127.0  616.0  \n",
       "A.J. Guyton    24.0   35.0  198.0  \n",
       "\n",
       "[3 rows x 22 columns]"
      ]
     },
     "execution_count": 553,
     "metadata": {},
     "output_type": "execute_result"
    }
   ],
   "source": [
    "aggregation_functions = {'FG': 'first',\n",
    "                         'FGA': 'first',\n",
    "                         'FG%': 'first',\n",
    "                         '3P': 'first',\n",
    "                         '3PA': 'first',\n",
    "                         '3P%': 'first',\n",
    "                         '2P': 'first',\n",
    "                         '2PA': 'first',\n",
    "                         '2P%': 'first',\n",
    "                         'eFG%': 'first',\n",
    "                         'FT': 'first',\n",
    "                         'FTA': 'first',\n",
    "                         'FT%': 'first',\n",
    "                         'ORB': 'first',\n",
    "                         'DRB': 'first',\n",
    "                         'TRB': 'first',\n",
    "                         'AST': 'first',\n",
    "                         'STL': 'first',\n",
    "                         'BLK': 'first',\n",
    "                         'TOV': 'first',\n",
    "                         'PF': 'first',\n",
    "                         'PTS': 'first'}\n",
    "\n",
    "rookie_df = nba_df.groupby(nba_df['Player']).aggregate(aggregation_functions)\n",
    "print(rookie_df.shape)\n",
    "rookie_df.head(3)"
   ]
  },
  {
   "cell_type": "markdown",
   "metadata": {},
   "source": [
    "##### combine career total pts with rookie_df"
   ]
  },
  {
   "cell_type": "code",
   "execution_count": 554,
   "metadata": {},
   "outputs": [
    {
     "data": {
      "text/html": [
       "<div>\n",
       "<style scoped>\n",
       "    .dataframe tbody tr th:only-of-type {\n",
       "        vertical-align: middle;\n",
       "    }\n",
       "\n",
       "    .dataframe tbody tr th {\n",
       "        vertical-align: top;\n",
       "    }\n",
       "\n",
       "    .dataframe thead th {\n",
       "        text-align: right;\n",
       "    }\n",
       "</style>\n",
       "<table border=\"1\" class=\"dataframe\">\n",
       "  <thead>\n",
       "    <tr style=\"text-align: right;\">\n",
       "      <th></th>\n",
       "      <th>TOTAL_PTS</th>\n",
       "    </tr>\n",
       "    <tr>\n",
       "      <th>Player</th>\n",
       "      <th></th>\n",
       "    </tr>\n",
       "  </thead>\n",
       "  <tbody>\n",
       "    <tr>\n",
       "      <td>A.C. Green</td>\n",
       "      <td>12928.0</td>\n",
       "    </tr>\n",
       "    <tr>\n",
       "      <td>A.J. English</td>\n",
       "      <td>1502.0</td>\n",
       "    </tr>\n",
       "    <tr>\n",
       "      <td>A.J. Guyton</td>\n",
       "      <td>442.0</td>\n",
       "    </tr>\n",
       "  </tbody>\n",
       "</table>\n",
       "</div>"
      ],
      "text/plain": [
       "              TOTAL_PTS\n",
       "Player                 \n",
       "A.C. Green      12928.0\n",
       "A.J. English     1502.0\n",
       "A.J. Guyton       442.0"
      ]
     },
     "execution_count": 554,
     "metadata": {},
     "output_type": "execute_result"
    }
   ],
   "source": [
    "total_df = career_df[['TOTAL_PTS']]\n",
    "total_df.head(3)"
   ]
  },
  {
   "cell_type": "code",
   "execution_count": 555,
   "metadata": {},
   "outputs": [
    {
     "data": {
      "text/html": [
       "<div>\n",
       "<style scoped>\n",
       "    .dataframe tbody tr th:only-of-type {\n",
       "        vertical-align: middle;\n",
       "    }\n",
       "\n",
       "    .dataframe tbody tr th {\n",
       "        vertical-align: top;\n",
       "    }\n",
       "\n",
       "    .dataframe thead th {\n",
       "        text-align: right;\n",
       "    }\n",
       "</style>\n",
       "<table border=\"1\" class=\"dataframe\">\n",
       "  <thead>\n",
       "    <tr style=\"text-align: right;\">\n",
       "      <th></th>\n",
       "      <th>FG</th>\n",
       "      <th>FGA</th>\n",
       "      <th>FG%</th>\n",
       "      <th>3P</th>\n",
       "      <th>3PA</th>\n",
       "      <th>3P%</th>\n",
       "      <th>2P</th>\n",
       "      <th>2PA</th>\n",
       "      <th>2P%</th>\n",
       "      <th>eFG%</th>\n",
       "      <th>...</th>\n",
       "      <th>ORB</th>\n",
       "      <th>DRB</th>\n",
       "      <th>TRB</th>\n",
       "      <th>AST</th>\n",
       "      <th>STL</th>\n",
       "      <th>BLK</th>\n",
       "      <th>TOV</th>\n",
       "      <th>PF</th>\n",
       "      <th>PTS</th>\n",
       "      <th>TOTAL_PTS</th>\n",
       "    </tr>\n",
       "    <tr>\n",
       "      <th>Player</th>\n",
       "      <th></th>\n",
       "      <th></th>\n",
       "      <th></th>\n",
       "      <th></th>\n",
       "      <th></th>\n",
       "      <th></th>\n",
       "      <th></th>\n",
       "      <th></th>\n",
       "      <th></th>\n",
       "      <th></th>\n",
       "      <th></th>\n",
       "      <th></th>\n",
       "      <th></th>\n",
       "      <th></th>\n",
       "      <th></th>\n",
       "      <th></th>\n",
       "      <th></th>\n",
       "      <th></th>\n",
       "      <th></th>\n",
       "      <th></th>\n",
       "      <th></th>\n",
       "    </tr>\n",
       "  </thead>\n",
       "  <tbody>\n",
       "    <tr>\n",
       "      <td>A.C. Green</td>\n",
       "      <td>209.0</td>\n",
       "      <td>388.0</td>\n",
       "      <td>0.539</td>\n",
       "      <td>1.0</td>\n",
       "      <td>6.0</td>\n",
       "      <td>0.167</td>\n",
       "      <td>208.0</td>\n",
       "      <td>382.0</td>\n",
       "      <td>0.545</td>\n",
       "      <td>0.540</td>\n",
       "      <td>...</td>\n",
       "      <td>160.0</td>\n",
       "      <td>221.0</td>\n",
       "      <td>381.0</td>\n",
       "      <td>54.0</td>\n",
       "      <td>49.0</td>\n",
       "      <td>49.0</td>\n",
       "      <td>99.0</td>\n",
       "      <td>229.0</td>\n",
       "      <td>521.0</td>\n",
       "      <td>12928.0</td>\n",
       "    </tr>\n",
       "    <tr>\n",
       "      <td>A.J. English</td>\n",
       "      <td>251.0</td>\n",
       "      <td>572.0</td>\n",
       "      <td>0.439</td>\n",
       "      <td>3.0</td>\n",
       "      <td>31.0</td>\n",
       "      <td>0.097</td>\n",
       "      <td>248.0</td>\n",
       "      <td>541.0</td>\n",
       "      <td>0.458</td>\n",
       "      <td>0.441</td>\n",
       "      <td>...</td>\n",
       "      <td>66.0</td>\n",
       "      <td>81.0</td>\n",
       "      <td>147.0</td>\n",
       "      <td>177.0</td>\n",
       "      <td>25.0</td>\n",
       "      <td>15.0</td>\n",
       "      <td>114.0</td>\n",
       "      <td>127.0</td>\n",
       "      <td>616.0</td>\n",
       "      <td>1502.0</td>\n",
       "    </tr>\n",
       "    <tr>\n",
       "      <td>A.J. Guyton</td>\n",
       "      <td>78.0</td>\n",
       "      <td>192.0</td>\n",
       "      <td>0.406</td>\n",
       "      <td>27.0</td>\n",
       "      <td>69.0</td>\n",
       "      <td>0.391</td>\n",
       "      <td>51.0</td>\n",
       "      <td>123.0</td>\n",
       "      <td>0.415</td>\n",
       "      <td>0.477</td>\n",
       "      <td>...</td>\n",
       "      <td>10.0</td>\n",
       "      <td>26.0</td>\n",
       "      <td>36.0</td>\n",
       "      <td>64.0</td>\n",
       "      <td>9.0</td>\n",
       "      <td>5.0</td>\n",
       "      <td>24.0</td>\n",
       "      <td>35.0</td>\n",
       "      <td>198.0</td>\n",
       "      <td>442.0</td>\n",
       "    </tr>\n",
       "  </tbody>\n",
       "</table>\n",
       "<p>3 rows × 23 columns</p>\n",
       "</div>"
      ],
      "text/plain": [
       "                 FG    FGA    FG%    3P   3PA    3P%     2P    2PA    2P%  \\\n",
       "Player                                                                      \n",
       "A.C. Green    209.0  388.0  0.539   1.0   6.0  0.167  208.0  382.0  0.545   \n",
       "A.J. English  251.0  572.0  0.439   3.0  31.0  0.097  248.0  541.0  0.458   \n",
       "A.J. Guyton    78.0  192.0  0.406  27.0  69.0  0.391   51.0  123.0  0.415   \n",
       "\n",
       "               eFG%  ...    ORB    DRB    TRB    AST   STL   BLK    TOV  \\\n",
       "Player               ...                                                  \n",
       "A.C. Green    0.540  ...  160.0  221.0  381.0   54.0  49.0  49.0   99.0   \n",
       "A.J. English  0.441  ...   66.0   81.0  147.0  177.0  25.0  15.0  114.0   \n",
       "A.J. Guyton   0.477  ...   10.0   26.0   36.0   64.0   9.0   5.0   24.0   \n",
       "\n",
       "                 PF    PTS  TOTAL_PTS  \n",
       "Player                                 \n",
       "A.C. Green    229.0  521.0    12928.0  \n",
       "A.J. English  127.0  616.0     1502.0  \n",
       "A.J. Guyton    35.0  198.0      442.0  \n",
       "\n",
       "[3 rows x 23 columns]"
      ]
     },
     "execution_count": 555,
     "metadata": {},
     "output_type": "execute_result"
    }
   ],
   "source": [
    "#merge with rookie_df\n",
    "stats_df = pd.merge(rookie_df, total_df, on='Player')\n",
    "stats_df.head(3)"
   ]
  },
  {
   "cell_type": "markdown",
   "metadata": {},
   "source": [
    "# ii) Explore Data"
   ]
  },
  {
   "cell_type": "code",
   "execution_count": 556,
   "metadata": {},
   "outputs": [
    {
     "data": {
      "text/plain": [
       "<matplotlib.axes._subplots.AxesSubplot at 0x12bd296eb48>"
      ]
     },
     "execution_count": 556,
     "metadata": {},
     "output_type": "execute_result"
    },
    {
     "data": {
      "image/png": "[encoded data removed]",
      "text/plain": [
       "<Figure size 432x288 with 1 Axes>"
      ]
     },
     "metadata": {},
     "output_type": "display_data"
    }
   ],
   "source": [
    "sns.boxplot(x=stats_df['TOTAL_PTS'])"
   ]
  },
  {
   "cell_type": "code",
   "execution_count": 557,
   "metadata": {},
   "outputs": [
    {
     "data": {
      "text/plain": [
       "<matplotlib.axes._subplots.AxesSubplot at 0x12bd2a789c8>"
      ]
     },
     "execution_count": 557,
     "metadata": {},
     "output_type": "execute_result"
    },
    {
     "data": {
      "image/png": "[encoded data removed]",
      "text/plain": [
       "<Figure size 432x288 with 1 Axes>"
      ]
     },
     "metadata": {},
     "output_type": "display_data"
    }
   ],
   "source": [
    "sns.boxplot(x=stats_df['PTS'])"
   ]
  },
  {
   "cell_type": "markdown",
   "metadata": {},
   "source": [
    "# iii) Feature Selection"
   ]
  },
  {
   "cell_type": "code",
   "execution_count": 558,
   "metadata": {},
   "outputs": [],
   "source": [
    "array = stats_df.values\n",
    "X = array[:,0:21]\n",
    "Y = array[:,21]"
   ]
  },
  {
   "cell_type": "markdown",
   "metadata": {},
   "source": [
    "##### Feature selection chose (#FG, FG%, 3P, 3P%, 2P, 2P%, eFG%, FT, FT%) as the top-9 features. This makes sense since our dependent variable is total_points scored in a career. "
   ]
  },
  {
   "cell_type": "code",
   "execution_count": 559,
   "metadata": {},
   "outputs": [
    {
     "name": "stdout",
     "output_type": "stream",
     "text": [
      "Num Features: 9\n",
      "Selected Features: [ True False  True  True False  True  True False  True  True  True False\n",
      "  True False False False False False False False False]\n",
      "Feature Ranking: [ 1  2  1  1  4  1  1  7  1  1  1 11  1  3  5  6 10  8 13 12  9]\n"
     ]
    }
   ],
   "source": [
    "# feature extraction\n",
    "model = LinearRegression()\n",
    "rfe = RFE(model, 9)\n",
    "fit = rfe.fit(X, Y)\n",
    "print(\"Num Features: %d\" % fit.n_features_)\n",
    "print(\"Selected Features: %s\" % fit.support_)\n",
    "print(\"Feature Ranking: %s\" % fit.ranking_)"
   ]
  },
  {
   "cell_type": "code",
   "execution_count": 560,
   "metadata": {},
   "outputs": [
    {
     "name": "stdout",
     "output_type": "stream",
     "text": [
      "(2331, 10)\n"
     ]
    },
    {
     "data": {
      "text/html": [
       "<div>\n",
       "<style scoped>\n",
       "    .dataframe tbody tr th:only-of-type {\n",
       "        vertical-align: middle;\n",
       "    }\n",
       "\n",
       "    .dataframe tbody tr th {\n",
       "        vertical-align: top;\n",
       "    }\n",
       "\n",
       "    .dataframe thead th {\n",
       "        text-align: right;\n",
       "    }\n",
       "</style>\n",
       "<table border=\"1\" class=\"dataframe\">\n",
       "  <thead>\n",
       "    <tr style=\"text-align: right;\">\n",
       "      <th></th>\n",
       "      <th>FG</th>\n",
       "      <th>FG%</th>\n",
       "      <th>3P</th>\n",
       "      <th>3P%</th>\n",
       "      <th>2P</th>\n",
       "      <th>2P%</th>\n",
       "      <th>eFG%</th>\n",
       "      <th>FT</th>\n",
       "      <th>FT%</th>\n",
       "      <th>TOTAL_PTS</th>\n",
       "    </tr>\n",
       "    <tr>\n",
       "      <th>Player</th>\n",
       "      <th></th>\n",
       "      <th></th>\n",
       "      <th></th>\n",
       "      <th></th>\n",
       "      <th></th>\n",
       "      <th></th>\n",
       "      <th></th>\n",
       "      <th></th>\n",
       "      <th></th>\n",
       "      <th></th>\n",
       "    </tr>\n",
       "  </thead>\n",
       "  <tbody>\n",
       "    <tr>\n",
       "      <td>A.C. Green</td>\n",
       "      <td>209.0</td>\n",
       "      <td>0.539</td>\n",
       "      <td>1.0</td>\n",
       "      <td>0.167</td>\n",
       "      <td>208.0</td>\n",
       "      <td>0.545</td>\n",
       "      <td>0.540</td>\n",
       "      <td>102.0</td>\n",
       "      <td>0.611</td>\n",
       "      <td>12928.0</td>\n",
       "    </tr>\n",
       "    <tr>\n",
       "      <td>A.J. English</td>\n",
       "      <td>251.0</td>\n",
       "      <td>0.439</td>\n",
       "      <td>3.0</td>\n",
       "      <td>0.097</td>\n",
       "      <td>248.0</td>\n",
       "      <td>0.458</td>\n",
       "      <td>0.441</td>\n",
       "      <td>111.0</td>\n",
       "      <td>0.707</td>\n",
       "      <td>1502.0</td>\n",
       "    </tr>\n",
       "    <tr>\n",
       "      <td>A.J. Guyton</td>\n",
       "      <td>78.0</td>\n",
       "      <td>0.406</td>\n",
       "      <td>27.0</td>\n",
       "      <td>0.391</td>\n",
       "      <td>51.0</td>\n",
       "      <td>0.415</td>\n",
       "      <td>0.477</td>\n",
       "      <td>15.0</td>\n",
       "      <td>0.833</td>\n",
       "      <td>442.0</td>\n",
       "    </tr>\n",
       "    <tr>\n",
       "      <td>A.J. Hammons</td>\n",
       "      <td>17.0</td>\n",
       "      <td>0.405</td>\n",
       "      <td>5.0</td>\n",
       "      <td>0.500</td>\n",
       "      <td>12.0</td>\n",
       "      <td>0.375</td>\n",
       "      <td>0.464</td>\n",
       "      <td>9.0</td>\n",
       "      <td>0.450</td>\n",
       "      <td>48.0</td>\n",
       "    </tr>\n",
       "    <tr>\n",
       "      <td>A.J. Price</td>\n",
       "      <td>145.0</td>\n",
       "      <td>0.410</td>\n",
       "      <td>60.0</td>\n",
       "      <td>0.345</td>\n",
       "      <td>85.0</td>\n",
       "      <td>0.472</td>\n",
       "      <td>0.494</td>\n",
       "      <td>60.0</td>\n",
       "      <td>0.800</td>\n",
       "      <td>1650.0</td>\n",
       "    </tr>\n",
       "  </tbody>\n",
       "</table>\n",
       "</div>"
      ],
      "text/plain": [
       "                 FG    FG%    3P    3P%     2P    2P%   eFG%     FT    FT%  \\\n",
       "Player                                                                       \n",
       "A.C. Green    209.0  0.539   1.0  0.167  208.0  0.545  0.540  102.0  0.611   \n",
       "A.J. English  251.0  0.439   3.0  0.097  248.0  0.458  0.441  111.0  0.707   \n",
       "A.J. Guyton    78.0  0.406  27.0  0.391   51.0  0.415  0.477   15.0  0.833   \n",
       "A.J. Hammons   17.0  0.405   5.0  0.500   12.0  0.375  0.464    9.0  0.450   \n",
       "A.J. Price    145.0  0.410  60.0  0.345   85.0  0.472  0.494   60.0  0.800   \n",
       "\n",
       "              TOTAL_PTS  \n",
       "Player                   \n",
       "A.C. Green      12928.0  \n",
       "A.J. English     1502.0  \n",
       "A.J. Guyton       442.0  \n",
       "A.J. Hammons       48.0  \n",
       "A.J. Price       1650.0  "
      ]
     },
     "execution_count": 560,
     "metadata": {},
     "output_type": "execute_result"
    }
   ],
   "source": [
    "final_df = stats_df[['FG', 'FG%', '3P', '3P%', '2P', '2P%', 'eFG%', 'FT', 'FT%', 'TOTAL_PTS']]\n",
    "print(final_df.shape)\n",
    "final_df.head()"
   ]
  },
  {
   "cell_type": "code",
   "execution_count": 561,
   "metadata": {},
   "outputs": [
    {
     "data": {
      "text/plain": [
       "3523.7001287001285"
      ]
     },
     "execution_count": 561,
     "metadata": {},
     "output_type": "execute_result"
    }
   ],
   "source": [
    "#find the mean total_pts since 1980 \n",
    "final_df['TOTAL_PTS'].mean()"
   ]
  },
  {
   "cell_type": "markdown",
   "metadata": {},
   "source": [
    "##### classify player total points as either 1/0 -- Above Average/Below Average"
   ]
  },
  {
   "cell_type": "code",
   "execution_count": 562,
   "metadata": {},
   "outputs": [
    {
     "data": {
      "text/html": [
       "<div>\n",
       "<style scoped>\n",
       "    .dataframe tbody tr th:only-of-type {\n",
       "        vertical-align: middle;\n",
       "    }\n",
       "\n",
       "    .dataframe tbody tr th {\n",
       "        vertical-align: top;\n",
       "    }\n",
       "\n",
       "    .dataframe thead th {\n",
       "        text-align: right;\n",
       "    }\n",
       "</style>\n",
       "<table border=\"1\" class=\"dataframe\">\n",
       "  <thead>\n",
       "    <tr style=\"text-align: right;\">\n",
       "      <th></th>\n",
       "      <th>FG</th>\n",
       "      <th>FG%</th>\n",
       "      <th>3P</th>\n",
       "      <th>3P%</th>\n",
       "      <th>2P</th>\n",
       "      <th>2P%</th>\n",
       "      <th>eFG%</th>\n",
       "      <th>FT</th>\n",
       "      <th>FT%</th>\n",
       "      <th>TOTAL_PTS</th>\n",
       "    </tr>\n",
       "    <tr>\n",
       "      <th>Player</th>\n",
       "      <th></th>\n",
       "      <th></th>\n",
       "      <th></th>\n",
       "      <th></th>\n",
       "      <th></th>\n",
       "      <th></th>\n",
       "      <th></th>\n",
       "      <th></th>\n",
       "      <th></th>\n",
       "      <th></th>\n",
       "    </tr>\n",
       "  </thead>\n",
       "  <tbody>\n",
       "    <tr>\n",
       "      <td>A.C. Green</td>\n",
       "      <td>209.0</td>\n",
       "      <td>0.539</td>\n",
       "      <td>1.0</td>\n",
       "      <td>0.167</td>\n",
       "      <td>208.0</td>\n",
       "      <td>0.545</td>\n",
       "      <td>0.540</td>\n",
       "      <td>102.0</td>\n",
       "      <td>0.611</td>\n",
       "      <td>1.0</td>\n",
       "    </tr>\n",
       "    <tr>\n",
       "      <td>A.J. English</td>\n",
       "      <td>251.0</td>\n",
       "      <td>0.439</td>\n",
       "      <td>3.0</td>\n",
       "      <td>0.097</td>\n",
       "      <td>248.0</td>\n",
       "      <td>0.458</td>\n",
       "      <td>0.441</td>\n",
       "      <td>111.0</td>\n",
       "      <td>0.707</td>\n",
       "      <td>0.0</td>\n",
       "    </tr>\n",
       "    <tr>\n",
       "      <td>A.J. Guyton</td>\n",
       "      <td>78.0</td>\n",
       "      <td>0.406</td>\n",
       "      <td>27.0</td>\n",
       "      <td>0.391</td>\n",
       "      <td>51.0</td>\n",
       "      <td>0.415</td>\n",
       "      <td>0.477</td>\n",
       "      <td>15.0</td>\n",
       "      <td>0.833</td>\n",
       "      <td>0.0</td>\n",
       "    </tr>\n",
       "    <tr>\n",
       "      <td>A.J. Hammons</td>\n",
       "      <td>17.0</td>\n",
       "      <td>0.405</td>\n",
       "      <td>5.0</td>\n",
       "      <td>0.500</td>\n",
       "      <td>12.0</td>\n",
       "      <td>0.375</td>\n",
       "      <td>0.464</td>\n",
       "      <td>9.0</td>\n",
       "      <td>0.450</td>\n",
       "      <td>0.0</td>\n",
       "    </tr>\n",
       "    <tr>\n",
       "      <td>A.J. Price</td>\n",
       "      <td>145.0</td>\n",
       "      <td>0.410</td>\n",
       "      <td>60.0</td>\n",
       "      <td>0.345</td>\n",
       "      <td>85.0</td>\n",
       "      <td>0.472</td>\n",
       "      <td>0.494</td>\n",
       "      <td>60.0</td>\n",
       "      <td>0.800</td>\n",
       "      <td>0.0</td>\n",
       "    </tr>\n",
       "  </tbody>\n",
       "</table>\n",
       "</div>"
      ],
      "text/plain": [
       "                 FG    FG%    3P    3P%     2P    2P%   eFG%     FT    FT%  \\\n",
       "Player                                                                       \n",
       "A.C. Green    209.0  0.539   1.0  0.167  208.0  0.545  0.540  102.0  0.611   \n",
       "A.J. English  251.0  0.439   3.0  0.097  248.0  0.458  0.441  111.0  0.707   \n",
       "A.J. Guyton    78.0  0.406  27.0  0.391   51.0  0.415  0.477   15.0  0.833   \n",
       "A.J. Hammons   17.0  0.405   5.0  0.500   12.0  0.375  0.464    9.0  0.450   \n",
       "A.J. Price    145.0  0.410  60.0  0.345   85.0  0.472  0.494   60.0  0.800   \n",
       "\n",
       "              TOTAL_PTS  \n",
       "Player                   \n",
       "A.C. Green          1.0  \n",
       "A.J. English        0.0  \n",
       "A.J. Guyton         0.0  \n",
       "A.J. Hammons        0.0  \n",
       "A.J. Price          0.0  "
      ]
     },
     "execution_count": 562,
     "metadata": {},
     "output_type": "execute_result"
    }
   ],
   "source": [
    "final_df['TOTAL_PTS'].values[final_df['TOTAL_PTS'] < 3522] = 0\n",
    "final_df['TOTAL_PTS'].values[final_df['TOTAL_PTS'] >= 3523] = 1\n",
    "final_df.head()"
   ]
  },
  {
   "cell_type": "code",
   "execution_count": 563,
   "metadata": {},
   "outputs": [
    {
     "data": {
      "text/plain": [
       "0.0    1589\n",
       "1.0     742\n",
       "Name: TOTAL_PTS, dtype: int64"
      ]
     },
     "execution_count": 563,
     "metadata": {},
     "output_type": "execute_result"
    }
   ],
   "source": [
    "#change total_pts column (y-dependent-variable) into a binary variable \n",
    "final_df['TOTAL_PTS'].value_counts()"
   ]
  },
  {
   "cell_type": "code",
   "execution_count": 564,
   "metadata": {},
   "outputs": [],
   "source": [
    "#write stats_df to a .csv\n",
    "final_df.to_csv('stats_data.csv')"
   ]
  },
  {
   "cell_type": "markdown",
   "metadata": {},
   "source": [
    "# iv) Training/Test Split & Resampling"
   ]
  },
  {
   "cell_type": "code",
   "execution_count": 565,
   "metadata": {},
   "outputs": [],
   "source": [
    "#split into TRAIN/TEST\n",
    "msk = np.random.rand(len(final_df)) < 0.70\n",
    "\n",
    "train_df = final_df[msk]\n",
    "test_df = final_df[~msk]"
   ]
  },
  {
   "cell_type": "code",
   "execution_count": 566,
   "metadata": {},
   "outputs": [
    {
     "name": "stdout",
     "output_type": "stream",
     "text": [
      "695\n",
      "1636\n"
     ]
    }
   ],
   "source": [
    "print(len(test_df))\n",
    "print(len(train_df))"
   ]
  },
  {
   "cell_type": "code",
   "execution_count": 567,
   "metadata": {},
   "outputs": [],
   "source": [
    "#split test into X_test and y_test for later\n",
    "y_test = test_df['TOTAL_PTS']\n",
    "X_test = test_df.drop('TOTAL_PTS',axis=1)"
   ]
  },
  {
   "cell_type": "markdown",
   "metadata": {},
   "source": [
    "### Random Oversampling"
   ]
  },
  {
   "cell_type": "code",
   "execution_count": 568,
   "metadata": {},
   "outputs": [
    {
     "data": {
      "text/plain": [
       "0.0    1125\n",
       "1.0     511\n",
       "Name: TOTAL_PTS, dtype: int64"
      ]
     },
     "execution_count": 568,
     "metadata": {},
     "output_type": "execute_result"
    }
   ],
   "source": [
    "train_df.TOTAL_PTS.value_counts()"
   ]
  },
  {
   "cell_type": "code",
   "execution_count": 569,
   "metadata": {},
   "outputs": [],
   "source": [
    "#class count\n",
    "count_class_0, count_class_1 = train_df.TOTAL_PTS.value_counts()\n",
    "\n",
    "#divide by class\n",
    "df_class_0 = train_df[train_df['TOTAL_PTS'] == 0]\n",
    "df_class_1 = train_df[train_df['TOTAL_PTS'] == 1]"
   ]
  },
  {
   "cell_type": "code",
   "execution_count": 570,
   "metadata": {},
   "outputs": [
    {
     "name": "stdout",
     "output_type": "stream",
     "text": [
      "Random over-sampling:\n",
      "0.0    1125\n",
      "1.0    1125\n",
      "Name: TOTAL_PTS, dtype: int64\n"
     ]
    },
    {
     "data": {
      "text/plain": [
       "<matplotlib.axes._subplots.AxesSubplot at 0x12bcc1e77c8>"
      ]
     },
     "execution_count": 570,
     "metadata": {},
     "output_type": "execute_result"
    },
    {
     "data": {
      "image/png": "[encoded data removed]",
      "text/plain": [
       "<Figure size 432x288 with 1 Axes>"
      ]
     },
     "metadata": {},
     "output_type": "display_data"
    }
   ],
   "source": [
    "df_class_1_over = df_class_1.sample(count_class_0, replace=True)\n",
    "df_test_over = pd.concat([df_class_1_over, df_class_0], axis=0)\n",
    "\n",
    "print('Random over-sampling:')\n",
    "print(df_test_over.TOTAL_PTS.value_counts())\n",
    "\n",
    "df_test_over.TOTAL_PTS.value_counts().plot(kind='bar', title='Count (TOTAL_PTS)')"
   ]
  },
  {
   "cell_type": "markdown",
   "metadata": {},
   "source": [
    "### Random Undersampling"
   ]
  },
  {
   "cell_type": "code",
   "execution_count": 571,
   "metadata": {},
   "outputs": [
    {
     "name": "stdout",
     "output_type": "stream",
     "text": [
      "Random undersampling:\n",
      "1.0    511\n",
      "0.0    511\n",
      "Name: TOTAL_PTS, dtype: int64\n"
     ]
    },
    {
     "data": {
      "text/plain": [
       "<matplotlib.axes._subplots.AxesSubplot at 0x12bc36bc048>"
      ]
     },
     "execution_count": 571,
     "metadata": {},
     "output_type": "execute_result"
    },
    {
     "data": {
      "image/png": "[encoded data removed]",
      "text/plain": [
       "<Figure size 432x288 with 1 Axes>"
      ]
     },
     "metadata": {},
     "output_type": "display_data"
    }
   ],
   "source": [
    "df_class_0_under = df_class_0.sample(count_class_1)\n",
    "df_test_under = pd.concat([df_class_0_under, df_class_1], axis=0)\n",
    "\n",
    "print('Random undersampling:')\n",
    "print(df_test_under.TOTAL_PTS.value_counts())\n",
    "\n",
    "df_test_under.TOTAL_PTS.value_counts().plot(kind='bar', title='Count (TOTAL_PTS)')"
   ]
  },
  {
   "cell_type": "markdown",
   "metadata": {},
   "source": [
    "# v) Machine Learning & Classification"
   ]
  },
  {
   "cell_type": "code",
   "execution_count": 572,
   "metadata": {},
   "outputs": [],
   "source": [
    "#split into X_train and y_train\n",
    "y_train = train_df['TOTAL_PTS']\n",
    "X_train = train_df.drop('TOTAL_PTS',axis=1)"
   ]
  },
  {
   "cell_type": "markdown",
   "metadata": {},
   "source": [
    "### Oversampled Data"
   ]
  },
  {
   "cell_type": "code",
   "execution_count": 573,
   "metadata": {},
   "outputs": [
    {
     "data": {
      "image/png": "[encoded data removed]",
      "text/plain": [
       "<Figure size 432x288 with 1 Axes>"
      ]
     },
     "metadata": {},
     "output_type": "display_data"
    }
   ],
   "source": [
    "df2_test_over = pd.DataFrame(df_test_over)\n",
    "df2_test_over.TOTAL_PTS.value_counts().plot(kind='bar', title='Count (TOTAL_PTS)');"
   ]
  },
  {
   "cell_type": "code",
   "execution_count": 574,
   "metadata": {},
   "outputs": [],
   "source": [
    "#split into X_train and y_train\n",
    "X_over_train = df2_test_over.drop('TOTAL_PTS',axis=1)\n",
    "y_over_train = df2_test_over['TOTAL_PTS']"
   ]
  },
  {
   "cell_type": "markdown",
   "metadata": {},
   "source": [
    "#### Naive Bayes Classifier"
   ]
  },
  {
   "cell_type": "code",
   "execution_count": 575,
   "metadata": {},
   "outputs": [],
   "source": [
    "##fitting Naive Bayes to the training set\n",
    "nb_classifier = MultinomialNB()\n",
    "nb_classifier = nb_classifier.fit(X_over_train, y_over_train)\n",
    "\n",
    "#predicting the test set results\n",
    "predictions = nb_classifier.predict(X_test)"
   ]
  },
  {
   "cell_type": "code",
   "execution_count": 576,
   "metadata": {},
   "outputs": [
    {
     "name": "stdout",
     "output_type": "stream",
     "text": [
      "Confusion matrix:\n",
      " [[292 172]\n",
      " [ 97 134]]\n"
     ]
    },
    {
     "data": {
      "image/png": "[encoded data removed]",
      "text/plain": [
       "<Figure size 432x288 with 2 Axes>"
      ]
     },
     "metadata": {},
     "output_type": "display_data"
    }
   ],
   "source": [
    "#confusion matrix\n",
    "conf_mat = confusion_matrix(y_true=y_test, y_pred=predictions)\n",
    "print('Confusion matrix:\\n', conf_mat)\n",
    "\n",
    "labels = ['Class 0', 'Class 1']\n",
    "fig = plt.figure()\n",
    "ax = fig.add_subplot(111)\n",
    "cax = ax.matshow(conf_mat, cmap=plt.cm.Blues)\n",
    "fig.colorbar(cax)\n",
    "ax.set_xticklabels([''] + labels)\n",
    "ax.set_yticklabels([''] + labels)\n",
    "plt.xlabel('Predicted')\n",
    "plt.ylabel('Expected')\n",
    "plt.show()"
   ]
  },
  {
   "cell_type": "code",
   "execution_count": 578,
   "metadata": {},
   "outputs": [
    {
     "name": "stdout",
     "output_type": "stream",
     "text": [
      "  Accuracy: 61.29%\n",
      " Precision: 43.79%\n",
      "    Recall: 58.01%\n",
      "  F1 score: 49.91%\n",
      " ROC score: 60.47%\n"
     ]
    }
   ],
   "source": [
    "#calculate accuracy/precision/recall/f1\n",
    "\n",
    "# accuracy: (tp + tn) / (p + n)\n",
    "accuracy = (accuracy_score(y_test, predictions)).astype('float64')\n",
    "print('{:>10}: {:0.2%}'.format('Accuracy',accuracy))\n",
    "# precision tp / (tp + fp)\n",
    "precision = (precision_score(y_test, predictions)).astype('float64')\n",
    "print('{:>10}: {:0.2%}'.format('Precision',precision))\n",
    "# recall: tp / (tp + fn)\n",
    "recall = (recall_score(y_test, predictions)).astype('float64')\n",
    "print('{:>10}: {:0.2%}'.format('Recall',recall))\n",
    "# f1: 2 tp / (2 tp + fp + fn)\n",
    "f1 = (f1_score(y_test, predictions)).astype('float64')\n",
    "print('{:>10}: {:0.2%}'.format('F1 score',f1))\n",
    "\n",
    "#ROC curve\n",
    "false_positive_rate, true_positive_rate, thresholds = roc_curve(y_test, predictions)\n",
    "roc_auc = (auc(false_positive_rate, true_positive_rate)).astype('float64')\n",
    "print('{:>10}: {:0.2%}'.format('ROC score',roc_auc))"
   ]
  },
  {
   "cell_type": "markdown",
   "metadata": {},
   "source": [
    "#### Logistic Regression "
   ]
  },
  {
   "cell_type": "code",
   "execution_count": 584,
   "metadata": {},
   "outputs": [],
   "source": [
    "#fitting Logistic Regression to the training set\n",
    "reg_classifier = LogisticRegression(penalty = 'l2', solver = 'liblinear')\n",
    "reg_classifier.fit(X_over_train, y_over_train)\n",
    "\n",
    "#predicting the test set results\n",
    "predictions = reg_classifier.predict(X_test)"
   ]
  },
  {
   "cell_type": "code",
   "execution_count": 585,
   "metadata": {},
   "outputs": [
    {
     "name": "stdout",
     "output_type": "stream",
     "text": [
      "Confusion matrix:\n",
      " [[365  99]\n",
      " [ 63 168]]\n"
     ]
    },
    {
     "data": {
      "image/png": "[encoded data removed]",
      "text/plain": [
       "<Figure size 432x288 with 2 Axes>"
      ]
     },
     "metadata": {},
     "output_type": "display_data"
    }
   ],
   "source": [
    "#confusion matrix\n",
    "conf_mat = confusion_matrix(y_true=y_test, y_pred=predictions)\n",
    "print('Confusion matrix:\\n', conf_mat)\n",
    "\n",
    "labels = ['Class 0', 'Class 1']\n",
    "fig = plt.figure()\n",
    "ax = fig.add_subplot(111)\n",
    "cax = ax.matshow(conf_mat, cmap=plt.cm.Blues)\n",
    "fig.colorbar(cax)\n",
    "ax.set_xticklabels([''] + labels)\n",
    "ax.set_yticklabels([''] + labels)\n",
    "plt.xlabel('Predicted')\n",
    "plt.ylabel('Expected')\n",
    "plt.show()"
   ]
  },
  {
   "cell_type": "code",
   "execution_count": 586,
   "metadata": {},
   "outputs": [
    {
     "name": "stdout",
     "output_type": "stream",
     "text": [
      "  Accuracy: 76.69%\n",
      " Precision: 62.92%\n",
      "    Recall: 72.73%\n",
      "  F1 score: 67.47%\n",
      " ROC score: 75.70%\n"
     ]
    }
   ],
   "source": [
    "#calculate accuracy/precision/recall/f1\n",
    "\n",
    "# accuracy: (tp + tn) / (p + n)\n",
    "accuracy = (accuracy_score(y_test, predictions)).astype('float64')\n",
    "print('{:>10}: {:0.2%}'.format('Accuracy',accuracy))\n",
    "# precision tp / (tp + fp)\n",
    "precision = (precision_score(y_test, predictions)).astype('float64')\n",
    "print('{:>10}: {:0.2%}'.format('Precision',precision))\n",
    "# recall: tp / (tp + fn)\n",
    "recall = (recall_score(y_test, predictions)).astype('float64')\n",
    "print('{:>10}: {:0.2%}'.format('Recall',recall))\n",
    "# f1: 2 tp / (2 tp + fp + fn)\n",
    "f1 = (f1_score(y_test, predictions)).astype('float64')\n",
    "print('{:>10}: {:0.2%}'.format('F1 score',f1))\n",
    "\n",
    "#ROC curve\n",
    "false_positive_rate, true_positive_rate, thresholds = roc_curve(y_test, predictions)\n",
    "roc_auc = (auc(false_positive_rate, true_positive_rate)).astype('float64')\n",
    "print('{:>10}: {:0.2%}'.format('ROC score',roc_auc))"
   ]
  },
  {
   "cell_type": "markdown",
   "metadata": {},
   "source": [
    "##### K-Nearest Neighbours"
   ]
  },
  {
   "cell_type": "code",
   "execution_count": 613,
   "metadata": {},
   "outputs": [],
   "source": [
    "#find optimal K-number with cross-validation\n",
    "\n",
    "#creating odd list of K for KNN\n",
    "neighbors = list(range(1, 20, 2))\n",
    "\n",
    "#empty list that will hold cv scores\n",
    "cv_scores = []\n",
    "\n",
    "#perform 10-fold cross validation\n",
    "for k in neighbors:\n",
    "    knn_classifier = KNeighborsClassifier(n_neighbors=k)\n",
    "    scores = cross_val_score(knn_classifier, X_over_train, y_over_train, cv=10, scoring='accuracy')\n",
    "    cv_scores.append(scores.mean())"
   ]
  },
  {
   "cell_type": "code",
   "execution_count": 614,
   "metadata": {},
   "outputs": [
    {
     "name": "stdout",
     "output_type": "stream",
     "text": [
      "The optimal number of neighbours is 1\n"
     ]
    },
    {
     "data": {
      "image/png": "[encoded data removed]",
      "text/plain": [
       "<Figure size 432x288 with 1 Axes>"
      ]
     },
     "metadata": {},
     "output_type": "display_data"
    }
   ],
   "source": [
    "# changing to misclassification error\n",
    "mse = [1 - x for x in cv_scores]\n",
    "\n",
    "# determining best k\n",
    "optimal_k = neighbors[mse.index(min(mse))]\n",
    "print(\"The optimal number of neighbours is {}\".format(optimal_k))\n",
    "\n",
    "# plot misclassification error vs k\n",
    "plt.plot(neighbors, mse)\n",
    "plt.xlabel(\"Number of Neighbours K\")\n",
    "plt.ylabel(\"Misclassification Error\")\n",
    "plt.show()"
   ]
  },
  {
   "cell_type": "code",
   "execution_count": 639,
   "metadata": {},
   "outputs": [],
   "source": [
    "#fitting KNN to the training set\n",
    "knn_classifier = KNeighborsClassifier(n_neighbors = 1, weights = 'distance', algorithm = 'auto')\n",
    "knn_classifier.fit(X_over_train, y_over_train)\n",
    "\n",
    "#predicting the test set results\n",
    "predictions = knn_classifier.predict(X_test)"
   ]
  },
  {
   "cell_type": "code",
   "execution_count": 640,
   "metadata": {},
   "outputs": [
    {
     "name": "stdout",
     "output_type": "stream",
     "text": [
      "Confusion matrix:\n",
      " [[384  80]\n",
      " [121 110]]\n"
     ]
    },
    {
     "data": {
      "image/png": "[encoded data removed]",
      "text/plain": [
       "<Figure size 432x288 with 2 Axes>"
      ]
     },
     "metadata": {},
     "output_type": "display_data"
    }
   ],
   "source": [
    "#confusion matrix\n",
    "conf_mat = confusion_matrix(y_true=y_test, y_pred=predictions)\n",
    "print('Confusion matrix:\\n', conf_mat)\n",
    "\n",
    "labels = ['Class 0', 'Class 1']\n",
    "fig = plt.figure()\n",
    "ax = fig.add_subplot(111)\n",
    "cax = ax.matshow(conf_mat, cmap=plt.cm.Blues)\n",
    "fig.colorbar(cax)\n",
    "ax.set_xticklabels([''] + labels)\n",
    "ax.set_yticklabels([''] + labels)\n",
    "plt.xlabel('Predicted')\n",
    "plt.ylabel('Expected')\n",
    "plt.show()\n"
   ]
  },
  {
   "cell_type": "code",
   "execution_count": 641,
   "metadata": {},
   "outputs": [
    {
     "name": "stdout",
     "output_type": "stream",
     "text": [
      "  Accuracy: 71.08%\n",
      " Precision: 57.89%\n",
      "    Recall: 47.62%\n",
      "  F1 score: 52.26%\n",
      " ROC score: 65.19%\n"
     ]
    }
   ],
   "source": [
    "#calculate accuracy/precision/recall/f1\n",
    "\n",
    "# accuracy: (tp + tn) / (p + n)\n",
    "accuracy = (accuracy_score(y_test, predictions)).astype('float64')\n",
    "print('{:>10}: {:0.2%}'.format('Accuracy',accuracy))\n",
    "# precision tp / (tp + fp)\n",
    "precision = (precision_score(y_test, predictions)).astype('float64')\n",
    "print('{:>10}: {:0.2%}'.format('Precision',precision))\n",
    "# recall: tp / (tp + fn)\n",
    "recall = (recall_score(y_test, predictions)).astype('float64')\n",
    "print('{:>10}: {:0.2%}'.format('Recall',recall))\n",
    "# f1: 2 tp / (2 tp + fp + fn)\n",
    "f1 = (f1_score(y_test, predictions)).astype('float64')\n",
    "print('{:>10}: {:0.2%}'.format('F1 score',f1))\n",
    "\n",
    "#ROC curve\n",
    "false_positive_rate, true_positive_rate, thresholds = roc_curve(y_test, predictions)\n",
    "roc_auc = (auc(false_positive_rate, true_positive_rate)).astype('float64')\n",
    "print('{:>10}: {:0.2%}'.format('ROC score',roc_auc))"
   ]
  },
  {
   "cell_type": "markdown",
   "metadata": {},
   "source": [
    "##### Support Vector Machine"
   ]
  },
  {
   "cell_type": "code",
   "execution_count": 642,
   "metadata": {},
   "outputs": [],
   "source": [
    "#fitting SVM to the training set\n",
    "svm_classifier = SGDClassifier(loss='perceptron', penalty='l2')\n",
    "svm_classifier.fit(X_over_train, y_over_train)\n",
    "\n",
    "#predicting the test set results\n",
    "predictions = svm_classifier.predict(X_test)"
   ]
  },
  {
   "cell_type": "code",
   "execution_count": 643,
   "metadata": {},
   "outputs": [
    {
     "name": "stdout",
     "output_type": "stream",
     "text": [
      "Confusion matrix:\n",
      " [[330 134]\n",
      " [ 50 181]]\n"
     ]
    },
    {
     "data": {
      "image/png": "[encoded data removed]",
      "text/plain": [
       "<Figure size 432x288 with 2 Axes>"
      ]
     },
     "metadata": {},
     "output_type": "display_data"
    }
   ],
   "source": [
    "#confusion matrix\n",
    "conf_mat = confusion_matrix(y_true=y_test, y_pred=predictions)\n",
    "print('Confusion matrix:\\n', conf_mat)\n",
    "\n",
    "labels = ['Class 0', 'Class 1']\n",
    "fig = plt.figure()\n",
    "ax = fig.add_subplot(111)\n",
    "cax = ax.matshow(conf_mat, cmap=plt.cm.Blues)\n",
    "fig.colorbar(cax)\n",
    "ax.set_xticklabels([''] + labels)\n",
    "ax.set_yticklabels([''] + labels)\n",
    "plt.xlabel('Predicted')\n",
    "plt.ylabel('Expected')\n",
    "plt.show()"
   ]
  },
  {
   "cell_type": "code",
   "execution_count": 644,
   "metadata": {},
   "outputs": [
    {
     "name": "stdout",
     "output_type": "stream",
     "text": [
      "  Accuracy: 73.53%\n",
      " Precision: 57.46%\n",
      "    Recall: 78.35%\n",
      "  F1 score: 66.30%\n",
      " ROC score: 74.74%\n"
     ]
    }
   ],
   "source": [
    "#calculate accuracy/precision/recall/f1\n",
    "\n",
    "# accuracy: (tp + tn) / (p + n)\n",
    "accuracy = (accuracy_score(y_test, predictions)).astype('float64')\n",
    "print('{:>10}: {:0.2%}'.format('Accuracy',accuracy))\n",
    "# precision tp / (tp + fp)\n",
    "precision = (precision_score(y_test, predictions)).astype('float64')\n",
    "print('{:>10}: {:0.2%}'.format('Precision',precision))\n",
    "# recall: tp / (tp + fn)\n",
    "recall = (recall_score(y_test, predictions)).astype('float64')\n",
    "print('{:>10}: {:0.2%}'.format('Recall',recall))\n",
    "# f1: 2 tp / (2 tp + fp + fn)\n",
    "f1 = (f1_score(y_test, predictions)).astype('float64')\n",
    "print('{:>10}: {:0.2%}'.format('F1 score',f1))\n",
    "\n",
    "#ROC curve\n",
    "false_positive_rate, true_positive_rate, thresholds = roc_curve(y_test, predictions)\n",
    "roc_auc = (auc(false_positive_rate, true_positive_rate)).astype('float64')\n",
    "print('{:>10}: {:0.2%}'.format('ROC score',roc_auc))"
   ]
  },
  {
   "cell_type": "markdown",
   "metadata": {},
   "source": [
    "### Undersampled Data"
   ]
  },
  {
   "cell_type": "code",
   "execution_count": 646,
   "metadata": {},
   "outputs": [
    {
     "data": {
      "text/plain": [
       "<matplotlib.axes._subplots.AxesSubplot at 0x12bc576bf48>"
      ]
     },
     "execution_count": 646,
     "metadata": {},
     "output_type": "execute_result"
    },
    {
     "data": {
      "image/png": "[encoded data removed]",
      "text/plain": [
       "<Figure size 432x288 with 1 Axes>"
      ]
     },
     "metadata": {},
     "output_type": "display_data"
    }
   ],
   "source": [
    "df2_test_under = pd.DataFrame(df_test_under)\n",
    "df2_test_under.TOTAL_PTS.value_counts().plot(kind='bar', title='Count (TOTAL_PTS)')"
   ]
  },
  {
   "cell_type": "code",
   "execution_count": 647,
   "metadata": {},
   "outputs": [],
   "source": [
    "#split into X_train and y_train\n",
    "X_under_train = df2_test_under.drop('TOTAL_PTS',axis=1)\n",
    "y_under_train = df2_test_under['TOTAL_PTS']"
   ]
  },
  {
   "cell_type": "code",
   "execution_count": 648,
   "metadata": {},
   "outputs": [],
   "source": [
    "#fitting Naive Bayes to the training set\n",
    "nb_classifier = MultinomialNB()\n",
    "nb_classifier = nb_classifier.fit(X_under_train, y_under_train)\n",
    "\n",
    "#predicting the test set results\n",
    "predictions = nb_classifier.predict(X_test)"
   ]
  },
  {
   "cell_type": "code",
   "execution_count": 649,
   "metadata": {},
   "outputs": [
    {
     "name": "stdout",
     "output_type": "stream",
     "text": [
      "Confusion matrix:\n",
      " [[278 186]\n",
      " [ 95 136]]\n"
     ]
    },
    {
     "data": {
      "image/png": "[encoded data removed]",
      "text/plain": [
       "<Figure size 432x288 with 2 Axes>"
      ]
     },
     "metadata": {},
     "output_type": "display_data"
    }
   ],
   "source": [
    "#confusion matrix\n",
    "conf_mat = confusion_matrix(y_true=y_test, y_pred=predictions)\n",
    "print('Confusion matrix:\\n', conf_mat)\n",
    "\n",
    "labels = ['Class 0', 'Class 1']\n",
    "fig = plt.figure()\n",
    "ax = fig.add_subplot(111)\n",
    "cax = ax.matshow(conf_mat, cmap=plt.cm.Blues)\n",
    "fig.colorbar(cax)\n",
    "ax.set_xticklabels([''] + labels)\n",
    "ax.set_yticklabels([''] + labels)\n",
    "plt.xlabel('Predicted')\n",
    "plt.ylabel('Expected')\n",
    "plt.show()"
   ]
  },
  {
   "cell_type": "code",
   "execution_count": 650,
   "metadata": {},
   "outputs": [
    {
     "name": "stdout",
     "output_type": "stream",
     "text": [
      "  Accuracy: 59.57%\n",
      " Precision: 42.24%\n",
      "    Recall: 58.87%\n",
      "  F1 score: 49.19%\n",
      " ROC score: 59.39%\n"
     ]
    }
   ],
   "source": [
    "#calculate accuracy/precision/recall/f1\n",
    "\n",
    "# accuracy: (tp + tn) / (p + n)\n",
    "accuracy = (accuracy_score(y_test, predictions)).astype('float64')\n",
    "print('{:>10}: {:0.2%}'.format('Accuracy',accuracy))\n",
    "# precision tp / (tp + fp)\n",
    "precision = (precision_score(y_test, predictions)).astype('float64')\n",
    "print('{:>10}: {:0.2%}'.format('Precision',precision))\n",
    "# recall: tp / (tp + fn)\n",
    "recall = (recall_score(y_test, predictions)).astype('float64')\n",
    "print('{:>10}: {:0.2%}'.format('Recall',recall))\n",
    "# f1: 2 tp / (2 tp + fp + fn)\n",
    "f1 = (f1_score(y_test, predictions)).astype('float64')\n",
    "print('{:>10}: {:0.2%}'.format('F1 score',f1))\n",
    "\n",
    "#ROC curve\n",
    "false_positive_rate, true_positive_rate, thresholds = roc_curve(y_test, predictions)\n",
    "roc_auc = (auc(false_positive_rate, true_positive_rate)).astype('float64')\n",
    "print('{:>10}: {:0.2%}'.format('ROC score',roc_auc))"
   ]
  },
  {
   "cell_type": "markdown",
   "metadata": {},
   "source": [
    "### Logistic Regression"
   ]
  },
  {
   "cell_type": "code",
   "execution_count": 651,
   "metadata": {},
   "outputs": [],
   "source": [
    "#fitting Logistic Regression to the training set\n",
    "reg_classifier = LogisticRegression(penalty = 'l2', solver = 'liblinear')\n",
    "reg_classifier.fit(X_under_train, y_under_train)\n",
    "\n",
    "#predicting the test set results\n",
    "predictions = reg_classifier.predict(X_test)"
   ]
  },
  {
   "cell_type": "code",
   "execution_count": 653,
   "metadata": {},
   "outputs": [
    {
     "name": "stdout",
     "output_type": "stream",
     "text": [
      "Confusion matrix:\n",
      " [[365  99]\n",
      " [ 63 168]]\n"
     ]
    },
    {
     "data": {
      "image/png": "[encoded data removed]",
      "text/plain": [
       "<Figure size 432x288 with 2 Axes>"
      ]
     },
     "metadata": {},
     "output_type": "display_data"
    }
   ],
   "source": [
    "#confusion matrix\n",
    "conf_mat = confusion_matrix(y_true=y_test, y_pred=predictions)\n",
    "print('Confusion matrix:\\n', conf_mat)\n",
    "\n",
    "labels = ['Class 0', 'Class 1']\n",
    "fig = plt.figure()\n",
    "ax = fig.add_subplot(111)\n",
    "cax = ax.matshow(conf_mat, cmap=plt.cm.Blues)\n",
    "fig.colorbar(cax)\n",
    "ax.set_xticklabels([''] + labels)\n",
    "ax.set_yticklabels([''] + labels)\n",
    "plt.xlabel('Predicted')\n",
    "plt.ylabel('Expected')\n",
    "plt.show()"
   ]
  },
  {
   "cell_type": "code",
   "execution_count": 654,
   "metadata": {},
   "outputs": [
    {
     "name": "stdout",
     "output_type": "stream",
     "text": [
      "  Accuracy: 76.69%\n",
      " Precision: 62.92%\n",
      "    Recall: 72.73%\n",
      "  F1 score: 67.47%\n",
      " ROC score: 75.70%\n"
     ]
    }
   ],
   "source": [
    "#calculate accuracy/precision/recall/f1\n",
    "\n",
    "# accuracy: (tp + tn) / (p + n)\n",
    "accuracy = (accuracy_score(y_test, predictions)).astype('float64')\n",
    "print('{:>10}: {:0.2%}'.format('Accuracy',accuracy))\n",
    "# precision tp / (tp + fp)\n",
    "precision = (precision_score(y_test, predictions)).astype('float64')\n",
    "print('{:>10}: {:0.2%}'.format('Precision',precision))\n",
    "# recall: tp / (tp + fn)\n",
    "recall = (recall_score(y_test, predictions)).astype('float64')\n",
    "print('{:>10}: {:0.2%}'.format('Recall',recall))\n",
    "# f1: 2 tp / (2 tp + fp + fn)\n",
    "f1 = (f1_score(y_test, predictions)).astype('float64')\n",
    "print('{:>10}: {:0.2%}'.format('F1 score',f1))\n",
    "\n",
    "#ROC curve\n",
    "false_positive_rate, true_positive_rate, thresholds = roc_curve(y_test, predictions)\n",
    "roc_auc = (auc(false_positive_rate, true_positive_rate)).astype('float64')\n",
    "print('{:>10}: {:0.2%}'.format('ROC score',roc_auc))"
   ]
  },
  {
   "cell_type": "markdown",
   "metadata": {},
   "source": [
    "### K-Nearest Neighbours"
   ]
  },
  {
   "cell_type": "code",
   "execution_count": 657,
   "metadata": {},
   "outputs": [],
   "source": [
    "#find optimal K-number with cross-validation\n",
    "\n",
    "#creating odd list of K for KNN\n",
    "neighbors = list(range(1, 100, 2))\n",
    "\n",
    "#empty list that will hold cv scores\n",
    "cv_scores = []\n",
    "\n",
    "#perform 10-fold cross validation\n",
    "for k in neighbors:\n",
    "    knn_classifier = KNeighborsClassifier(n_neighbors=k)\n",
    "    scores = cross_val_score(knn_classifier, X_under_train, y_under_train, cv=10, scoring='accuracy')\n",
    "    cv_scores.append(scores.mean())"
   ]
  },
  {
   "cell_type": "code",
   "execution_count": 658,
   "metadata": {},
   "outputs": [
    {
     "name": "stdout",
     "output_type": "stream",
     "text": [
      "The optimal number of neighbours is 47\n"
     ]
    },
    {
     "data": {
      "image/png": "[encoded data removed]",
      "text/plain": [
       "<Figure size 432x288 with 1 Axes>"
      ]
     },
     "metadata": {},
     "output_type": "display_data"
    }
   ],
   "source": [
    "# changing to misclassification error\n",
    "mse = [1 - x for x in cv_scores]\n",
    "\n",
    "# determining best k\n",
    "optimal_k = neighbors[mse.index(min(mse))]\n",
    "print(\"The optimal number of neighbours is {}\".format(optimal_k))\n",
    "\n",
    "# plot misclassification error vs k\n",
    "plt.plot(neighbors, mse)\n",
    "plt.xlabel(\"Number of Neighbours K\")\n",
    "plt.ylabel(\"Misclassification Error\")\n",
    "plt.show()"
   ]
  },
  {
   "cell_type": "code",
   "execution_count": 659,
   "metadata": {},
   "outputs": [],
   "source": [
    "#fitting KNN to the training set\n",
    "knn_classifier = KNeighborsClassifier(n_neighbors = 47, weights = 'distance', algorithm = 'auto')\n",
    "knn_classifier.fit(X_under_train, y_under_train)\n",
    "\n",
    "#predicting the test set results\n",
    "predictions = knn_classifier.predict(X_test)"
   ]
  },
  {
   "cell_type": "code",
   "execution_count": 660,
   "metadata": {},
   "outputs": [
    {
     "name": "stdout",
     "output_type": "stream",
     "text": [
      "Confusion matrix:\n",
      " [[360 104]\n",
      " [ 73 158]]\n"
     ]
    },
    {
     "data": {
      "image/png": "[encoded data removed]",
      "text/plain": [
       "<Figure size 432x288 with 2 Axes>"
      ]
     },
     "metadata": {},
     "output_type": "display_data"
    }
   ],
   "source": [
    "#confusion matrix\n",
    "conf_mat = confusion_matrix(y_true=y_test, y_pred=predictions)\n",
    "print('Confusion matrix:\\n', conf_mat)\n",
    "\n",
    "labels = ['Class 0', 'Class 1']\n",
    "fig = plt.figure()\n",
    "ax = fig.add_subplot(111)\n",
    "cax = ax.matshow(conf_mat, cmap=plt.cm.Blues)\n",
    "fig.colorbar(cax)\n",
    "ax.set_xticklabels([''] + labels)\n",
    "ax.set_yticklabels([''] + labels)\n",
    "plt.xlabel('Predicted')\n",
    "plt.ylabel('Expected')\n",
    "plt.show()"
   ]
  },
  {
   "cell_type": "code",
   "execution_count": 661,
   "metadata": {},
   "outputs": [
    {
     "name": "stdout",
     "output_type": "stream",
     "text": [
      "  Accuracy: 74.53%\n",
      " Precision: 60.31%\n",
      "    Recall: 68.40%\n",
      "  F1 score: 64.10%\n",
      " ROC score: 72.99%\n"
     ]
    }
   ],
   "source": [
    "#calculate accuracy/precision/recall/f1\n",
    "\n",
    "# accuracy: (tp + tn) / (p + n)\n",
    "accuracy = (accuracy_score(y_test, predictions)).astype('float64')\n",
    "print('{:>10}: {:0.2%}'.format('Accuracy',accuracy))\n",
    "# precision tp / (tp + fp)\n",
    "precision = (precision_score(y_test, predictions)).astype('float64')\n",
    "print('{:>10}: {:0.2%}'.format('Precision',precision))\n",
    "# recall: tp / (tp + fn)\n",
    "recall = (recall_score(y_test, predictions)).astype('float64')\n",
    "print('{:>10}: {:0.2%}'.format('Recall',recall))\n",
    "# f1: 2 tp / (2 tp + fp + fn)\n",
    "f1 = (f1_score(y_test, predictions)).astype('float64')\n",
    "print('{:>10}: {:0.2%}'.format('F1 score',f1))\n",
    "\n",
    "#ROC curve\n",
    "false_positive_rate, true_positive_rate, thresholds = roc_curve(y_test, predictions)\n",
    "roc_auc = (auc(false_positive_rate, true_positive_rate)).astype('float64')\n",
    "print('{:>10}: {:0.2%}'.format('ROC score',roc_auc))"
   ]
  },
  {
   "cell_type": "markdown",
   "metadata": {},
   "source": [
    "### Support Vector Machine"
   ]
  },
  {
   "cell_type": "code",
   "execution_count": 662,
   "metadata": {},
   "outputs": [],
   "source": [
    "#fitting SVM to the training set\n",
    "svm_classifier = SGDClassifier(loss='perceptron', penalty='l2')\n",
    "svm_classifier.fit(X_under_train, y_under_train)\n",
    "\n",
    "#predicting the test set results\n",
    "predictions = svm_classifier.predict(X_test)"
   ]
  },
  {
   "cell_type": "code",
   "execution_count": 663,
   "metadata": {},
   "outputs": [
    {
     "name": "stdout",
     "output_type": "stream",
     "text": [
      "Confusion matrix:\n",
      " [[237 227]\n",
      " [ 29 202]]\n"
     ]
    },
    {
     "data": {
      "image/png": "[encoded data removed]",
      "text/plain": [
       "<Figure size 432x288 with 2 Axes>"
      ]
     },
     "metadata": {},
     "output_type": "display_data"
    }
   ],
   "source": [
    "#confusion matrix\n",
    "conf_mat = confusion_matrix(y_true=y_test, y_pred=predictions)\n",
    "print('Confusion matrix:\\n', conf_mat)\n",
    "\n",
    "labels = ['Class 0', 'Class 1']\n",
    "fig = plt.figure()\n",
    "ax = fig.add_subplot(111)\n",
    "cax = ax.matshow(conf_mat, cmap=plt.cm.Blues)\n",
    "fig.colorbar(cax)\n",
    "ax.set_xticklabels([''] + labels)\n",
    "ax.set_yticklabels([''] + labels)\n",
    "plt.xlabel('Predicted')\n",
    "plt.ylabel('Expected')\n",
    "plt.show()"
   ]
  },
  {
   "cell_type": "code",
   "execution_count": 664,
   "metadata": {},
   "outputs": [
    {
     "name": "stdout",
     "output_type": "stream",
     "text": [
      "  Accuracy: 63.17%\n",
      " Precision: 47.09%\n",
      "    Recall: 87.45%\n",
      "  F1 score: 61.21%\n",
      " ROC score: 69.26%\n"
     ]
    }
   ],
   "source": [
    "#calculate accuracy/precision/recall/f1\n",
    "\n",
    "# accuracy: (tp + tn) / (p + n)\n",
    "accuracy = (accuracy_score(y_test, predictions)).astype('float64')\n",
    "print('{:>10}: {:0.2%}'.format('Accuracy',accuracy))\n",
    "# precision tp / (tp + fp)\n",
    "precision = (precision_score(y_test, predictions)).astype('float64')\n",
    "print('{:>10}: {:0.2%}'.format('Precision',precision))\n",
    "# recall: tp / (tp + fn)\n",
    "recall = (recall_score(y_test, predictions)).astype('float64')\n",
    "print('{:>10}: {:0.2%}'.format('Recall',recall))\n",
    "# f1: 2 tp / (2 tp + fp + fn)\n",
    "f1 = (f1_score(y_test, predictions)).astype('float64')\n",
    "print('{:>10}: {:0.2%}'.format('F1 score',f1))\n",
    "\n",
    "#ROC curve\n",
    "false_positive_rate, true_positive_rate, thresholds = roc_curve(y_test, predictions)\n",
    "roc_auc = (auc(false_positive_rate, true_positive_rate)).astype('float64')\n",
    "print('{:>10}: {:0.2%}'.format('ROC score',roc_auc))"
   ]
  },
  {
   "cell_type": "code",
   "execution_count": null,
   "metadata": {},
   "outputs": [],
   "source": []
  }
 ],
 "metadata": {
  "kernelspec": {
   "display_name": "Python 3",
   "language": "python",
   "name": "python3"
  },
  "language_info": {
   "codemirror_mode": {
    "name": "ipython",
    "version": 3
   },
   "file_extension": ".py",
   "mimetype": "text/x-python",
   "name": "python",
   "nbconvert_exporter": "python",
   "pygments_lexer": "ipython3",
   "version": "3.7.4"
  }
 },
 "nbformat": 4,
 "nbformat_minor": 2
}
